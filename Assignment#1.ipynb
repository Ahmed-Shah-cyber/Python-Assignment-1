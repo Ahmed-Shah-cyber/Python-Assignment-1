{
 "cells": [
  {
   "cell_type": "code",
   "execution_count": 1,
   "metadata": {},
   "outputs": [
    {
     "name": "stdout",
     "output_type": "stream",
     "text": [
      "Twinkle, twinkle, little star,\n",
      "\t How I wonder what you are!,\n",
      "\t\tUp above the world so high,\n",
      "\t\tLike a diamond in the sky,\n",
      " Twinkle, twinkle, little star,\n",
      "\t How I wonder what you are!\n"
     ]
    }
   ],
   "source": [
    "print(\"Twinkle, twinkle, little star,\\n\\t How I wonder what you are!,\\n\\t\\tUp above the world so high,\\n\\t\\tLike a diamond in the sky,\\n Twinkle, twinkle, little star,\\n\\t How I wonder what you are!\")"
   ]
  },
  {
   "cell_type": "code",
   "execution_count": 2,
   "metadata": {},
   "outputs": [
    {
     "name": "stdout",
     "output_type": "stream",
     "text": [
      "Python version: \n",
      "\t 3.7.4 (default, Aug  9 2019, 18:34:13) [MSC v.1915 64 bit (AMD64)]\n"
     ]
    }
   ],
   "source": [
    "import sys\n",
    "print(\"Python version:\",\"\\n\\t\",sys.version)"
   ]
  },
  {
   "cell_type": "code",
   "execution_count": 3,
   "metadata": {},
   "outputs": [
    {
     "name": "stdout",
     "output_type": "stream",
     "text": [
      "Current date and time\n",
      "2019-11-04 11:11:42.633877\n"
     ]
    }
   ],
   "source": [
    "import datetime\n",
    "now = datetime.datetime.now()\n",
    "print(\"Current date and time\")\n",
    "print(now)"
   ]
  },
  {
   "cell_type": "code",
   "execution_count": 4,
   "metadata": {},
   "outputs": [
    {
     "name": "stdout",
     "output_type": "stream",
     "text": [
      "Enter radius of circle2\n",
      "12.568\n"
     ]
    }
   ],
   "source": [
    "r = float(input(\"Enter radius of circle\"))\n",
    "Pi = 3.142\n",
    "area = float(Pi*r**2)\n",
    "print (area)"
   ]
  },
  {
   "cell_type": "code",
   "execution_count": 7,
   "metadata": {},
   "outputs": [
    {
     "name": "stdout",
     "output_type": "stream",
     "text": [
      "Enter First Name: Syed Muhammad\n",
      "Enter Last Name: Ahmed\n",
      "Ahmed  Syed Muhammad\n"
     ]
    }
   ],
   "source": [
    "FirstName=input(\"Enter First Name: \")\n",
    "LastName=input(\"Enter Last Name: \")\n",
    "print(LastName,\" \" + FirstName)"
   ]
  },
  {
   "cell_type": "code",
   "execution_count": 6,
   "metadata": {},
   "outputs": [
    {
     "name": "stdout",
     "output_type": "stream",
     "text": [
      "Enter first number: 2\n",
      "Enter second number: 3.5\n",
      "sum of two numbers is  5.5\n"
     ]
    }
   ],
   "source": [
    "a=float(input(\"Enter first number: \"))\n",
    "b=float(input(\"Enter second number: \"))\n",
    "c=a+b\n",
    "print(\"sum of two numbers is \",c)"
   ]
  },
  {
   "cell_type": "code",
   "execution_count": null,
   "metadata": {},
   "outputs": [],
   "source": []
  }
 ],
 "metadata": {
  "kernelspec": {
   "display_name": "Python 3",
   "language": "python",
   "name": "python3"
  },
  "language_info": {
   "codemirror_mode": {
    "name": "ipython",
    "version": 3
   },
   "file_extension": ".py",
   "mimetype": "text/x-python",
   "name": "python",
   "nbconvert_exporter": "python",
   "pygments_lexer": "ipython3",
   "version": "3.7.4"
  }
 },
 "nbformat": 4,
 "nbformat_minor": 2
}
